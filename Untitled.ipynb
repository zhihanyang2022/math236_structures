{
 "cells": [
  {
   "cell_type": "markdown",
   "metadata": {},
   "source": [
    "Propositions:\n",
    "- P: Tax rate goes up.\n",
    "- Q: Unemployment rate goes up.\n",
    "- R: There is a recession.\n",
    "- S: GDP goes up.\n",
    "\n",
    "Premises:\n",
    "- $P \\land Q \\rightarrow R$\n",
    "- $S \\rightarrow \\lnot R$\n",
    "- $S \\land P$\n",
    "\n",
    "Argument:\n",
    "- $\\lnot Q$"
   ]
  },
  {
   "cell_type": "code",
   "execution_count": 1,
   "metadata": {
    "ExecuteTime": {
     "end_time": "2020-04-07T20:57:28.660047Z",
     "start_time": "2020-04-07T20:57:28.656010Z"
    }
   },
   "outputs": [],
   "source": [
    "P_values = [0, 1]\n",
    "Q_values = [0, 1]\n",
    "R_values = [0, 1]\n",
    "S_values = [0, 1]"
   ]
  },
  {
   "cell_type": "code",
   "execution_count": null,
   "metadata": {},
   "outputs": [],
   "source": [
    "def get_combinations(list_of_list_of_values:list)->list:\n",
    "    for list_of_list_of_values:\n",
    "        "
   ]
  },
  {
   "cell_type": "code",
   "execution_count": null,
   "metadata": {},
   "outputs": [],
   "source": []
  }
 ],
 "metadata": {
  "kernelspec": {
   "display_name": "Python 3",
   "language": "python",
   "name": "python3"
  },
  "language_info": {
   "codemirror_mode": {
    "name": "ipython",
    "version": 3
   },
   "file_extension": ".py",
   "mimetype": "text/x-python",
   "name": "python",
   "nbconvert_exporter": "python",
   "pygments_lexer": "ipython3",
   "version": "3.6.9"
  },
  "toc": {
   "base_numbering": 1,
   "nav_menu": {},
   "number_sections": true,
   "sideBar": true,
   "skip_h1_title": false,
   "title_cell": "Table of Contents",
   "title_sidebar": "Contents",
   "toc_cell": false,
   "toc_position": {},
   "toc_section_display": true,
   "toc_window_display": false
  }
 },
 "nbformat": 4,
 "nbformat_minor": 2
}
